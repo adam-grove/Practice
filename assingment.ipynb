{
 "cells": [
  {
   "cell_type": "code",
   "execution_count": 255,
   "metadata": {},
   "outputs": [],
   "source": [
    "# Libraries\n",
    "import pandas as pd\n",
    "import matplotlib.pyplot as plt\n",
    "import datetime as dt"
   ]
  },
  {
   "cell_type": "markdown",
   "metadata": {},
   "source": [
    "# Assignment\n",
    "Please complete the following tasks.\n",
    "\n",
    "1. Build up distribution of orders according to reasons for failure: cancellations before and after driver assignment, and reasons for order rejection. Analyse the resulting plot. Which category has the highest number of orders?\n",
    "2. Plot the distribution of failed orders by hours. Is there a trend that certain hours have an abnormally high proportion of one category or another? What hours are the biggest fails? How can this be explained?\n",
    "3. Plot the average time to cancellation with and without driver, by the hour. If there are any outliers in the data, it would be better to remove them. Can we draw any conclusions from this plot?\n",
    "4. Plot the distribution of average ETA by hours. How can this plot be explained?\n",
    "\n",
    "**BONUS** Hexagons. Using the h3 and folium packages, calculate how many sizes 8 hexes contain 80% of all orders from the original data sets and visualise the hexes, colouring them by the number of fails on the map."
   ]
  },
  {
   "cell_type": "markdown",
   "metadata": {},
   "source": [
    "# EDA"
   ]
  },
  {
   "cell_type": "code",
   "execution_count": 215,
   "metadata": {},
   "outputs": [],
   "source": [
    "# Loading in the data \n",
    "offers = pd.read_csv(\"data_offers.csv\")\n",
    "orders = pd.read_csv(\"data_orders.csv\")"
   ]
  },
  {
   "cell_type": "markdown",
   "metadata": {},
   "source": [
    "## Orders "
   ]
  },
  {
   "cell_type": "code",
   "execution_count": 216,
   "metadata": {},
   "outputs": [
    {
     "data": {
      "text/plain": [
       "(10716, 8)"
      ]
     },
     "execution_count": 216,
     "metadata": {},
     "output_type": "execute_result"
    }
   ],
   "source": [
    "orders.shape"
   ]
  },
  {
   "cell_type": "code",
   "execution_count": 217,
   "metadata": {},
   "outputs": [
    {
     "data": {
      "text/html": [
       "<div>\n",
       "<style scoped>\n",
       "    .dataframe tbody tr th:only-of-type {\n",
       "        vertical-align: middle;\n",
       "    }\n",
       "\n",
       "    .dataframe tbody tr th {\n",
       "        vertical-align: top;\n",
       "    }\n",
       "\n",
       "    .dataframe thead th {\n",
       "        text-align: right;\n",
       "    }\n",
       "</style>\n",
       "<table border=\"1\" class=\"dataframe\">\n",
       "  <thead>\n",
       "    <tr style=\"text-align: right;\">\n",
       "      <th></th>\n",
       "      <th>order_datetime</th>\n",
       "      <th>origin_longitude</th>\n",
       "      <th>origin_latitude</th>\n",
       "      <th>m_order_eta</th>\n",
       "      <th>order_gk</th>\n",
       "      <th>order_status_key</th>\n",
       "      <th>is_driver_assigned_key</th>\n",
       "      <th>cancellations_time_in_seconds</th>\n",
       "    </tr>\n",
       "  </thead>\n",
       "  <tbody>\n",
       "    <tr>\n",
       "      <th>0</th>\n",
       "      <td>18:08:07</td>\n",
       "      <td>-0.978916</td>\n",
       "      <td>51.456173</td>\n",
       "      <td>60.0</td>\n",
       "      <td>3000583041974</td>\n",
       "      <td>4</td>\n",
       "      <td>1</td>\n",
       "      <td>198.0</td>\n",
       "    </tr>\n",
       "    <tr>\n",
       "      <th>1</th>\n",
       "      <td>20:57:32</td>\n",
       "      <td>-0.950385</td>\n",
       "      <td>51.456843</td>\n",
       "      <td>NaN</td>\n",
       "      <td>3000583116437</td>\n",
       "      <td>4</td>\n",
       "      <td>0</td>\n",
       "      <td>128.0</td>\n",
       "    </tr>\n",
       "    <tr>\n",
       "      <th>2</th>\n",
       "      <td>12:07:50</td>\n",
       "      <td>-0.969520</td>\n",
       "      <td>51.455544</td>\n",
       "      <td>477.0</td>\n",
       "      <td>3000582891479</td>\n",
       "      <td>4</td>\n",
       "      <td>1</td>\n",
       "      <td>46.0</td>\n",
       "    </tr>\n",
       "    <tr>\n",
       "      <th>3</th>\n",
       "      <td>13:50:20</td>\n",
       "      <td>-1.054671</td>\n",
       "      <td>51.460544</td>\n",
       "      <td>658.0</td>\n",
       "      <td>3000582941169</td>\n",
       "      <td>4</td>\n",
       "      <td>1</td>\n",
       "      <td>62.0</td>\n",
       "    </tr>\n",
       "    <tr>\n",
       "      <th>4</th>\n",
       "      <td>21:24:45</td>\n",
       "      <td>-0.967605</td>\n",
       "      <td>51.458236</td>\n",
       "      <td>NaN</td>\n",
       "      <td>3000583140877</td>\n",
       "      <td>9</td>\n",
       "      <td>0</td>\n",
       "      <td>NaN</td>\n",
       "    </tr>\n",
       "  </tbody>\n",
       "</table>\n",
       "</div>"
      ],
      "text/plain": [
       "  order_datetime  origin_longitude  origin_latitude  m_order_eta  \\\n",
       "0       18:08:07         -0.978916        51.456173         60.0   \n",
       "1       20:57:32         -0.950385        51.456843          NaN   \n",
       "2       12:07:50         -0.969520        51.455544        477.0   \n",
       "3       13:50:20         -1.054671        51.460544        658.0   \n",
       "4       21:24:45         -0.967605        51.458236          NaN   \n",
       "\n",
       "        order_gk  order_status_key  is_driver_assigned_key  \\\n",
       "0  3000583041974                 4                       1   \n",
       "1  3000583116437                 4                       0   \n",
       "2  3000582891479                 4                       1   \n",
       "3  3000582941169                 4                       1   \n",
       "4  3000583140877                 9                       0   \n",
       "\n",
       "   cancellations_time_in_seconds  \n",
       "0                          198.0  \n",
       "1                          128.0  \n",
       "2                           46.0  \n",
       "3                           62.0  \n",
       "4                            NaN  "
      ]
     },
     "execution_count": 217,
     "metadata": {},
     "output_type": "execute_result"
    }
   ],
   "source": [
    "orders.head()"
   ]
  },
  {
   "cell_type": "markdown",
   "metadata": {},
   "source": [
    "We have two data sets: data_orders and data_offers, both being stored in a CSV format. The data_orders data set contains the following columns:\n",
    "\n",
    "**order_datetime**- time of the order\n",
    "\n",
    "**origin_longitude** - longitude of the order\n",
    "\n",
    "**origin_latitude** - latitude of the order\n",
    "\n",
    "**m_order_eta** - time before order arrival\n",
    "\n",
    "**order_gk** - order number\n",
    "\n",
    "**order_status_key** - status, an enumeration consisting of the following mapping:\n",
    "\n",
    "* 4 - cancelled by client,\n",
    "\n",
    "* 9 - cancelled by system, i.e., a reject\n",
    "\n",
    "**is_driver_assigned_key** - whether a driver has been assigned\n",
    "\n",
    "**cancellation_time_in_seconds** - how many seconds passed before cancellation"
   ]
  },
  {
   "cell_type": "code",
   "execution_count": 218,
   "metadata": {},
   "outputs": [
    {
     "data": {
      "text/plain": [
       "<Axes: >"
      ]
     },
     "execution_count": 218,
     "metadata": {},
     "output_type": "execute_result"
    }
   ],
   "source": [
    "orders.boxplot(column=\"m_order_eta\")"
   ]
  },
  {
   "cell_type": "code",
   "execution_count": 219,
   "metadata": {},
   "outputs": [
    {
     "data": {
      "text/plain": [
       "order_gk\n",
       "3000583041974    1\n",
       "3000590782265    1\n",
       "3000590781929    1\n",
       "3000590807087    1\n",
       "3000590806745    1\n",
       "                ..\n",
       "3000587756057    1\n",
       "3000587655526    1\n",
       "3000587756214    1\n",
       "3000587806780    1\n",
       "3000592871241    1\n",
       "Name: count, Length: 10716, dtype: int64"
      ]
     },
     "execution_count": 219,
     "metadata": {},
     "output_type": "execute_result"
    }
   ],
   "source": [
    "# Confirming that these are unique values\n",
    "orders[\"order_gk\"].value_counts()"
   ]
  },
  {
   "cell_type": "code",
   "execution_count": 220,
   "metadata": {},
   "outputs": [
    {
     "data": {
      "text/plain": [
       "order_status_key\n",
       "4    7307\n",
       "9    3409\n",
       "Name: count, dtype: int64"
      ]
     },
     "execution_count": 220,
     "metadata": {},
     "output_type": "execute_result"
    }
   ],
   "source": [
    "# Checking to see if there are any other options \n",
    "orders[\"order_status_key\"].value_counts()"
   ]
  },
  {
   "cell_type": "markdown",
   "metadata": {},
   "source": [
    "Only cancellations "
   ]
  },
  {
   "cell_type": "code",
   "execution_count": 221,
   "metadata": {},
   "outputs": [
    {
     "data": {
      "text/plain": [
       "is_driver_assigned_key\n",
       "0    7902\n",
       "1    2814\n",
       "Name: count, dtype: int64"
      ]
     },
     "execution_count": 221,
     "metadata": {},
     "output_type": "execute_result"
    }
   ],
   "source": [
    "orders[\"is_driver_assigned_key\"].value_counts()"
   ]
  },
  {
   "cell_type": "code",
   "execution_count": 222,
   "metadata": {},
   "outputs": [
    {
     "data": {
      "text/plain": [
       "3409"
      ]
     },
     "execution_count": 222,
     "metadata": {},
     "output_type": "execute_result"
    }
   ],
   "source": [
    "# Checking for missing values\n",
    "orders[\"cancellations_time_in_seconds\"].isna().sum()"
   ]
  },
  {
   "cell_type": "markdown",
   "metadata": {},
   "source": [
    "## Offers "
   ]
  },
  {
   "cell_type": "code",
   "execution_count": 223,
   "metadata": {},
   "outputs": [
    {
     "data": {
      "text/html": [
       "<div>\n",
       "<style scoped>\n",
       "    .dataframe tbody tr th:only-of-type {\n",
       "        vertical-align: middle;\n",
       "    }\n",
       "\n",
       "    .dataframe tbody tr th {\n",
       "        vertical-align: top;\n",
       "    }\n",
       "\n",
       "    .dataframe thead th {\n",
       "        text-align: right;\n",
       "    }\n",
       "</style>\n",
       "<table border=\"1\" class=\"dataframe\">\n",
       "  <thead>\n",
       "    <tr style=\"text-align: right;\">\n",
       "      <th></th>\n",
       "      <th>order_gk</th>\n",
       "      <th>offer_id</th>\n",
       "    </tr>\n",
       "  </thead>\n",
       "  <tbody>\n",
       "    <tr>\n",
       "      <th>0</th>\n",
       "      <td>3000579625629</td>\n",
       "      <td>300050936206</td>\n",
       "    </tr>\n",
       "    <tr>\n",
       "      <th>1</th>\n",
       "      <td>3000627306450</td>\n",
       "      <td>300052064651</td>\n",
       "    </tr>\n",
       "    <tr>\n",
       "      <th>2</th>\n",
       "      <td>3000632920686</td>\n",
       "      <td>300052408812</td>\n",
       "    </tr>\n",
       "    <tr>\n",
       "      <th>3</th>\n",
       "      <td>3000632771725</td>\n",
       "      <td>300052393030</td>\n",
       "    </tr>\n",
       "    <tr>\n",
       "      <th>4</th>\n",
       "      <td>3000583467642</td>\n",
       "      <td>300051001196</td>\n",
       "    </tr>\n",
       "  </tbody>\n",
       "</table>\n",
       "</div>"
      ],
      "text/plain": [
       "        order_gk      offer_id\n",
       "0  3000579625629  300050936206\n",
       "1  3000627306450  300052064651\n",
       "2  3000632920686  300052408812\n",
       "3  3000632771725  300052393030\n",
       "4  3000583467642  300051001196"
      ]
     },
     "execution_count": 223,
     "metadata": {},
     "output_type": "execute_result"
    }
   ],
   "source": [
    "offers.head()"
   ]
  },
  {
   "cell_type": "markdown",
   "metadata": {},
   "source": [
    "The data_offers data set is a simple map with 2 columns:\n",
    "\n",
    "**order_gk** - order number, associated with the same column from the orders data set\n",
    "\n",
    "**offer_id** - ID of an offer"
   ]
  },
  {
   "cell_type": "markdown",
   "metadata": {},
   "source": [
    "## Merging the two datasets"
   ]
  },
  {
   "cell_type": "code",
   "execution_count": 224,
   "metadata": {},
   "outputs": [
    {
     "data": {
      "text/html": [
       "<div>\n",
       "<style scoped>\n",
       "    .dataframe tbody tr th:only-of-type {\n",
       "        vertical-align: middle;\n",
       "    }\n",
       "\n",
       "    .dataframe tbody tr th {\n",
       "        vertical-align: top;\n",
       "    }\n",
       "\n",
       "    .dataframe thead th {\n",
       "        text-align: right;\n",
       "    }\n",
       "</style>\n",
       "<table border=\"1\" class=\"dataframe\">\n",
       "  <thead>\n",
       "    <tr style=\"text-align: right;\">\n",
       "      <th></th>\n",
       "      <th>order_datetime</th>\n",
       "      <th>origin_longitude</th>\n",
       "      <th>origin_latitude</th>\n",
       "      <th>m_order_eta</th>\n",
       "      <th>order_gk</th>\n",
       "      <th>order_status_key</th>\n",
       "      <th>is_driver_assigned_key</th>\n",
       "      <th>cancellations_time_in_seconds</th>\n",
       "      <th>offer_id</th>\n",
       "    </tr>\n",
       "  </thead>\n",
       "  <tbody>\n",
       "    <tr>\n",
       "      <th>30194</th>\n",
       "      <td>21:15:35</td>\n",
       "      <td>-0.969588</td>\n",
       "      <td>51.455780</td>\n",
       "      <td>299.0</td>\n",
       "      <td>3000555697076</td>\n",
       "      <td>4</td>\n",
       "      <td>1</td>\n",
       "      <td>223.0</td>\n",
       "      <td>300050725946</td>\n",
       "    </tr>\n",
       "    <tr>\n",
       "      <th>14748</th>\n",
       "      <td>10:13:35</td>\n",
       "      <td>-0.955958</td>\n",
       "      <td>51.430362</td>\n",
       "      <td>NaN</td>\n",
       "      <td>3000626091676</td>\n",
       "      <td>4</td>\n",
       "      <td>0</td>\n",
       "      <td>91.0</td>\n",
       "      <td>300052014519</td>\n",
       "    </tr>\n",
       "    <tr>\n",
       "      <th>29083</th>\n",
       "      <td>09:16:38</td>\n",
       "      <td>-1.033560</td>\n",
       "      <td>51.441967</td>\n",
       "      <td>NaN</td>\n",
       "      <td>3000594099225</td>\n",
       "      <td>4</td>\n",
       "      <td>0</td>\n",
       "      <td>68.0</td>\n",
       "      <td>300051458740</td>\n",
       "    </tr>\n",
       "    <tr>\n",
       "      <th>16926</th>\n",
       "      <td>02:08:09</td>\n",
       "      <td>-0.967676</td>\n",
       "      <td>51.444489</td>\n",
       "      <td>NaN</td>\n",
       "      <td>3000626980467</td>\n",
       "      <td>4</td>\n",
       "      <td>0</td>\n",
       "      <td>125.0</td>\n",
       "      <td>300052031394</td>\n",
       "    </tr>\n",
       "    <tr>\n",
       "      <th>21530</th>\n",
       "      <td>21:44:21</td>\n",
       "      <td>-0.972683</td>\n",
       "      <td>51.456762</td>\n",
       "      <td>NaN</td>\n",
       "      <td>3000554421440</td>\n",
       "      <td>4</td>\n",
       "      <td>0</td>\n",
       "      <td>11.0</td>\n",
       "      <td>300050671163</td>\n",
       "    </tr>\n",
       "    <tr>\n",
       "      <th>13008</th>\n",
       "      <td>03:03:45</td>\n",
       "      <td>-0.966745</td>\n",
       "      <td>51.453236</td>\n",
       "      <td>NaN</td>\n",
       "      <td>3000593295623</td>\n",
       "      <td>9</td>\n",
       "      <td>0</td>\n",
       "      <td>NaN</td>\n",
       "      <td>300051413313</td>\n",
       "    </tr>\n",
       "    <tr>\n",
       "      <th>2034</th>\n",
       "      <td>14:41:22</td>\n",
       "      <td>-0.948642</td>\n",
       "      <td>51.449587</td>\n",
       "      <td>NaN</td>\n",
       "      <td>3000584916226</td>\n",
       "      <td>4</td>\n",
       "      <td>0</td>\n",
       "      <td>6.0</td>\n",
       "      <td>300051090742</td>\n",
       "    </tr>\n",
       "    <tr>\n",
       "      <th>2229</th>\n",
       "      <td>20:54:03</td>\n",
       "      <td>-0.991382</td>\n",
       "      <td>51.476339</td>\n",
       "      <td>NaN</td>\n",
       "      <td>3000585716553</td>\n",
       "      <td>9</td>\n",
       "      <td>0</td>\n",
       "      <td>NaN</td>\n",
       "      <td>300051125957</td>\n",
       "    </tr>\n",
       "    <tr>\n",
       "      <th>16632</th>\n",
       "      <td>18:06:17</td>\n",
       "      <td>-0.948907</td>\n",
       "      <td>51.444643</td>\n",
       "      <td>NaN</td>\n",
       "      <td>3000627382471</td>\n",
       "      <td>4</td>\n",
       "      <td>0</td>\n",
       "      <td>113.0</td>\n",
       "      <td>300052078801</td>\n",
       "    </tr>\n",
       "    <tr>\n",
       "      <th>18189</th>\n",
       "      <td>07:52:29</td>\n",
       "      <td>-0.973793</td>\n",
       "      <td>51.458665</td>\n",
       "      <td>479.0</td>\n",
       "      <td>3000587781360</td>\n",
       "      <td>4</td>\n",
       "      <td>1</td>\n",
       "      <td>47.0</td>\n",
       "      <td>300051178628</td>\n",
       "    </tr>\n",
       "  </tbody>\n",
       "</table>\n",
       "</div>"
      ],
      "text/plain": [
       "      order_datetime  origin_longitude  origin_latitude  m_order_eta  \\\n",
       "30194       21:15:35         -0.969588        51.455780        299.0   \n",
       "14748       10:13:35         -0.955958        51.430362          NaN   \n",
       "29083       09:16:38         -1.033560        51.441967          NaN   \n",
       "16926       02:08:09         -0.967676        51.444489          NaN   \n",
       "21530       21:44:21         -0.972683        51.456762          NaN   \n",
       "13008       03:03:45         -0.966745        51.453236          NaN   \n",
       "2034        14:41:22         -0.948642        51.449587          NaN   \n",
       "2229        20:54:03         -0.991382        51.476339          NaN   \n",
       "16632       18:06:17         -0.948907        51.444643          NaN   \n",
       "18189       07:52:29         -0.973793        51.458665        479.0   \n",
       "\n",
       "            order_gk  order_status_key  is_driver_assigned_key  \\\n",
       "30194  3000555697076                 4                       1   \n",
       "14748  3000626091676                 4                       0   \n",
       "29083  3000594099225                 4                       0   \n",
       "16926  3000626980467                 4                       0   \n",
       "21530  3000554421440                 4                       0   \n",
       "13008  3000593295623                 9                       0   \n",
       "2034   3000584916226                 4                       0   \n",
       "2229   3000585716553                 9                       0   \n",
       "16632  3000627382471                 4                       0   \n",
       "18189  3000587781360                 4                       1   \n",
       "\n",
       "       cancellations_time_in_seconds      offer_id  \n",
       "30194                          223.0  300050725946  \n",
       "14748                           91.0  300052014519  \n",
       "29083                           68.0  300051458740  \n",
       "16926                          125.0  300052031394  \n",
       "21530                           11.0  300050671163  \n",
       "13008                            NaN  300051413313  \n",
       "2034                             6.0  300051090742  \n",
       "2229                             NaN  300051125957  \n",
       "16632                          113.0  300052078801  \n",
       "18189                           47.0  300051178628  "
      ]
     },
     "execution_count": 224,
     "metadata": {},
     "output_type": "execute_result"
    }
   ],
   "source": [
    "orders_offers = orders.merge(right = offers, how=\"inner\", on = \"order_gk\")\n",
    "orders_offers.sample(n=10, random_state=42)"
   ]
  },
  {
   "cell_type": "code",
   "execution_count": 225,
   "metadata": {},
   "outputs": [
    {
     "data": {
      "text/html": [
       "<div>\n",
       "<style scoped>\n",
       "    .dataframe tbody tr th:only-of-type {\n",
       "        vertical-align: middle;\n",
       "    }\n",
       "\n",
       "    .dataframe tbody tr th {\n",
       "        vertical-align: top;\n",
       "    }\n",
       "\n",
       "    .dataframe thead th {\n",
       "        text-align: right;\n",
       "    }\n",
       "</style>\n",
       "<table border=\"1\" class=\"dataframe\">\n",
       "  <thead>\n",
       "    <tr style=\"text-align: right;\">\n",
       "      <th></th>\n",
       "      <th>order_time</th>\n",
       "      <th>origin_longitude</th>\n",
       "      <th>origin_latitude</th>\n",
       "      <th>m_order_eta</th>\n",
       "      <th>order_gk</th>\n",
       "      <th>order_status</th>\n",
       "      <th>is_driver_assigned</th>\n",
       "      <th>cancellations_time_in_seconds</th>\n",
       "      <th>offer_id</th>\n",
       "    </tr>\n",
       "  </thead>\n",
       "  <tbody>\n",
       "    <tr>\n",
       "      <th>30194</th>\n",
       "      <td>21:15:35</td>\n",
       "      <td>-0.969588</td>\n",
       "      <td>51.455780</td>\n",
       "      <td>299.0</td>\n",
       "      <td>3000555697076</td>\n",
       "      <td>Client Cancelled</td>\n",
       "      <td>Yes</td>\n",
       "      <td>223.0</td>\n",
       "      <td>300050725946</td>\n",
       "    </tr>\n",
       "    <tr>\n",
       "      <th>14748</th>\n",
       "      <td>10:13:35</td>\n",
       "      <td>-0.955958</td>\n",
       "      <td>51.430362</td>\n",
       "      <td>NaN</td>\n",
       "      <td>3000626091676</td>\n",
       "      <td>Client Cancelled</td>\n",
       "      <td>No</td>\n",
       "      <td>91.0</td>\n",
       "      <td>300052014519</td>\n",
       "    </tr>\n",
       "    <tr>\n",
       "      <th>29083</th>\n",
       "      <td>09:16:38</td>\n",
       "      <td>-1.033560</td>\n",
       "      <td>51.441967</td>\n",
       "      <td>NaN</td>\n",
       "      <td>3000594099225</td>\n",
       "      <td>Client Cancelled</td>\n",
       "      <td>No</td>\n",
       "      <td>68.0</td>\n",
       "      <td>300051458740</td>\n",
       "    </tr>\n",
       "    <tr>\n",
       "      <th>16926</th>\n",
       "      <td>02:08:09</td>\n",
       "      <td>-0.967676</td>\n",
       "      <td>51.444489</td>\n",
       "      <td>NaN</td>\n",
       "      <td>3000626980467</td>\n",
       "      <td>Client Cancelled</td>\n",
       "      <td>No</td>\n",
       "      <td>125.0</td>\n",
       "      <td>300052031394</td>\n",
       "    </tr>\n",
       "    <tr>\n",
       "      <th>21530</th>\n",
       "      <td>21:44:21</td>\n",
       "      <td>-0.972683</td>\n",
       "      <td>51.456762</td>\n",
       "      <td>NaN</td>\n",
       "      <td>3000554421440</td>\n",
       "      <td>Client Cancelled</td>\n",
       "      <td>No</td>\n",
       "      <td>11.0</td>\n",
       "      <td>300050671163</td>\n",
       "    </tr>\n",
       "    <tr>\n",
       "      <th>13008</th>\n",
       "      <td>03:03:45</td>\n",
       "      <td>-0.966745</td>\n",
       "      <td>51.453236</td>\n",
       "      <td>NaN</td>\n",
       "      <td>3000593295623</td>\n",
       "      <td>System Reject</td>\n",
       "      <td>No</td>\n",
       "      <td>NaN</td>\n",
       "      <td>300051413313</td>\n",
       "    </tr>\n",
       "    <tr>\n",
       "      <th>2034</th>\n",
       "      <td>14:41:22</td>\n",
       "      <td>-0.948642</td>\n",
       "      <td>51.449587</td>\n",
       "      <td>NaN</td>\n",
       "      <td>3000584916226</td>\n",
       "      <td>Client Cancelled</td>\n",
       "      <td>No</td>\n",
       "      <td>6.0</td>\n",
       "      <td>300051090742</td>\n",
       "    </tr>\n",
       "    <tr>\n",
       "      <th>2229</th>\n",
       "      <td>20:54:03</td>\n",
       "      <td>-0.991382</td>\n",
       "      <td>51.476339</td>\n",
       "      <td>NaN</td>\n",
       "      <td>3000585716553</td>\n",
       "      <td>System Reject</td>\n",
       "      <td>No</td>\n",
       "      <td>NaN</td>\n",
       "      <td>300051125957</td>\n",
       "    </tr>\n",
       "    <tr>\n",
       "      <th>16632</th>\n",
       "      <td>18:06:17</td>\n",
       "      <td>-0.948907</td>\n",
       "      <td>51.444643</td>\n",
       "      <td>NaN</td>\n",
       "      <td>3000627382471</td>\n",
       "      <td>Client Cancelled</td>\n",
       "      <td>No</td>\n",
       "      <td>113.0</td>\n",
       "      <td>300052078801</td>\n",
       "    </tr>\n",
       "    <tr>\n",
       "      <th>18189</th>\n",
       "      <td>07:52:29</td>\n",
       "      <td>-0.973793</td>\n",
       "      <td>51.458665</td>\n",
       "      <td>479.0</td>\n",
       "      <td>3000587781360</td>\n",
       "      <td>Client Cancelled</td>\n",
       "      <td>Yes</td>\n",
       "      <td>47.0</td>\n",
       "      <td>300051178628</td>\n",
       "    </tr>\n",
       "  </tbody>\n",
       "</table>\n",
       "</div>"
      ],
      "text/plain": [
       "      order_time  origin_longitude  origin_latitude  m_order_eta  \\\n",
       "30194   21:15:35         -0.969588        51.455780        299.0   \n",
       "14748   10:13:35         -0.955958        51.430362          NaN   \n",
       "29083   09:16:38         -1.033560        51.441967          NaN   \n",
       "16926   02:08:09         -0.967676        51.444489          NaN   \n",
       "21530   21:44:21         -0.972683        51.456762          NaN   \n",
       "13008   03:03:45         -0.966745        51.453236          NaN   \n",
       "2034    14:41:22         -0.948642        51.449587          NaN   \n",
       "2229    20:54:03         -0.991382        51.476339          NaN   \n",
       "16632   18:06:17         -0.948907        51.444643          NaN   \n",
       "18189   07:52:29         -0.973793        51.458665        479.0   \n",
       "\n",
       "            order_gk      order_status is_driver_assigned  \\\n",
       "30194  3000555697076  Client Cancelled                Yes   \n",
       "14748  3000626091676  Client Cancelled                 No   \n",
       "29083  3000594099225  Client Cancelled                 No   \n",
       "16926  3000626980467  Client Cancelled                 No   \n",
       "21530  3000554421440  Client Cancelled                 No   \n",
       "13008  3000593295623     System Reject                 No   \n",
       "2034   3000584916226  Client Cancelled                 No   \n",
       "2229   3000585716553     System Reject                 No   \n",
       "16632  3000627382471  Client Cancelled                 No   \n",
       "18189  3000587781360  Client Cancelled                Yes   \n",
       "\n",
       "       cancellations_time_in_seconds      offer_id  \n",
       "30194                          223.0  300050725946  \n",
       "14748                           91.0  300052014519  \n",
       "29083                           68.0  300051458740  \n",
       "16926                          125.0  300052031394  \n",
       "21530                           11.0  300050671163  \n",
       "13008                            NaN  300051413313  \n",
       "2034                             6.0  300051090742  \n",
       "2229                             NaN  300051125957  \n",
       "16632                          113.0  300052078801  \n",
       "18189                           47.0  300051178628  "
      ]
     },
     "execution_count": 225,
     "metadata": {},
     "output_type": "execute_result"
    }
   ],
   "source": [
    "orders_offers[\"order_status_key\"] = orders_offers[\"order_status_key\"].replace({4:\"Client Cancelled\", 9:\"System Reject\"})\n",
    "orders_offers[\"is_driver_assigned_key\"] = orders_offers[\"is_driver_assigned_key\"].replace({0:\"No\", 1: \"Yes\"})\n",
    "\n",
    "orders_offers = orders_offers.rename(columns={\n",
    "    \"order_datetime\" : \"order_time\",\n",
    "    \"is_driver_assigned_key\" : \"is_driver_assigned\",\n",
    "    \"order_status_key\" : \"order_status\"\n",
    "})\n",
    "\n",
    "orders_offers.sample(n=10, random_state=42)"
   ]
  },
  {
   "cell_type": "markdown",
   "metadata": {},
   "source": [
    "### Summary of data cleaning \n",
    "1. Removed 3 rows as they had a missing cancellation time despite having a driver assigned"
   ]
  },
  {
   "cell_type": "markdown",
   "metadata": {},
   "source": [
    "# Build up distribution of orders according to reasons for failure: cancellations before and after driver assignment, and reasons for order rejection. Analyse the resulting plot. Which category has the highest number of orders?\n"
   ]
  },
  {
   "cell_type": "code",
   "execution_count": 252,
   "metadata": {},
   "outputs": [
    {
     "data": {
      "image/png": "[encoded data removed]",
      "text/plain": [
       "<Figure size 640x480 with 1 Axes>"
      ]
     },
     "metadata": {},
     "output_type": "display_data"
    }
   ],
   "source": [
    "\n",
    "orders_offers[\"order_status\"].value_counts().plot(kind=\"bar\")\n",
    "plt.xlabel(\"Cancellation Type\")\n",
    "plt.ylabel(\"Number of Orders\")\n",
    "plt.xticks(rotation = 0)\n",
    "\n",
    "plt.show()"
   ]
  },
  {
   "cell_type": "code",
   "execution_count": 227,
   "metadata": {},
   "outputs": [
    {
     "data": {
      "image/png": "[encoded data removed]",
      "text/plain": [
       "<Figure size 640x480 with 1 Axes>"
      ]
     },
     "metadata": {},
     "output_type": "display_data"
    }
   ],
   "source": [
    "fig,ax = plt.subplots()\n",
    "orders_offers[\"is_driver_assigned\"].value_counts().plot(ax = ax,kind=\"bar\")\n",
    "plt.xlabel(\"Was Driver Assigned\")\n",
    "plt.ylabel(\"Number of Orders\")\n",
    "plt.xticks(rotation = 0)\n",
    "\n",
    "plt.show()"
   ]
  },
  {
   "cell_type": "markdown",
   "metadata": {},
   "source": [
    "Grouped bar chart"
   ]
  },
  {
   "cell_type": "code",
   "execution_count": 228,
   "metadata": {},
   "outputs": [
    {
     "data": {
      "text/plain": [
       "is_driver_assigned  order_status    \n",
       "No                  Client Cancelled    13435\n",
       "                    System Reject        9469\n",
       "Yes                 Client Cancelled     8360\n",
       "                    System Reject           4\n",
       "dtype: int64"
      ]
     },
     "execution_count": 228,
     "metadata": {},
     "output_type": "execute_result"
    }
   ],
   "source": [
    "grouped_counts = orders_offers.groupby(['is_driver_assigned','order_status']).size()\n",
    "\n",
    "grouped_counts"
   ]
  },
  {
   "cell_type": "code",
   "execution_count": 250,
   "metadata": {},
   "outputs": [
    {
     "data": {
      "image/png": "[encoded data removed]",
      "text/plain": [
       "<Figure size 640x480 with 1 Axes>"
      ]
     },
     "metadata": {},
     "output_type": "display_data"
    }
   ],
   "source": [
    "group_labels = {\n",
    "    (\"No\",\"Client Cancelled\") : \"Meow\",\n",
    "    (\"No\",\"System Reject\") : \"Maow\",\n",
    "    (\"Yes\",\"Client Cancelled\") : \"Test\"\n",
    "}\n",
    "\n",
    "grouped_counts.plot(kind=\"bar\",color=[\"red\",\"green\",\"blue\",\"blue\"],subplots=False)\n",
    "plt.xticks(rotation = 30)\n",
    "plt.show()"
   ]
  },
  {
   "cell_type": "markdown",
   "metadata": {},
   "source": [
    "# Plot the distribution of failed orders by hours. Is there a trend that certain hours have an abnormally high proportion of one category or another? What hours are the biggest fails? How can this be explained?\n"
   ]
  },
  {
   "cell_type": "code",
   "execution_count": 253,
   "metadata": {},
   "outputs": [
    {
     "data": {
      "text/plain": [
       "order_time                        object\n",
       "origin_longitude                 float64\n",
       "origin_latitude                  float64\n",
       "m_order_eta                      float64\n",
       "order_gk                           int64\n",
       "order_status                      object\n",
       "is_driver_assigned                object\n",
       "cancellations_time_in_seconds    float64\n",
       "offer_id                           int64\n",
       "dtype: object"
      ]
     },
     "execution_count": 253,
     "metadata": {},
     "output_type": "execute_result"
    }
   ],
   "source": [
    "orders_offers.dtypes"
   ]
  },
  {
   "cell_type": "code",
   "execution_count": 259,
   "metadata": {},
   "outputs": [
    {
     "data": {
      "text/plain": [
       "0       2024-11-06 18:08:07\n",
       "1       2024-11-06 20:57:32\n",
       "2       2024-11-06 20:57:32\n",
       "3       2024-11-06 20:57:32\n",
       "4       2024-11-06 12:07:50\n",
       "                ...        \n",
       "31263   2024-11-06 12:44:11\n",
       "31264   2024-11-06 12:42:52\n",
       "31265   2024-11-06 13:11:35\n",
       "31266   2024-11-06 13:17:21\n",
       "31267   2024-11-06 11:49:35\n",
       "Name: order_time, Length: 31268, dtype: datetime64[ns]"
      ]
     },
     "execution_count": 259,
     "metadata": {},
     "output_type": "execute_result"
    }
   ],
   "source": [
    "orders_offers[\"order_time\"]"
   ]
  },
  {
   "cell_type": "code",
   "execution_count": 260,
   "metadata": {},
   "outputs": [],
   "source": [
    "orders_offers[\"order_time\"] = pd.to_datetime(orders_offers[\"order_time\"], format=\"%Y-%m-%d %H:%M:%S\")"
   ]
  },
  {
   "cell_type": "code",
   "execution_count": 261,
   "metadata": {},
   "outputs": [
    {
     "data": {
      "text/plain": [
       "order_time                       datetime64[ns]\n",
       "origin_longitude                        float64\n",
       "origin_latitude                         float64\n",
       "m_order_eta                             float64\n",
       "order_gk                                  int64\n",
       "order_status                             object\n",
       "is_driver_assigned                       object\n",
       "cancellations_time_in_seconds           float64\n",
       "offer_id                                  int64\n",
       "dtype: object"
      ]
     },
     "execution_count": 261,
     "metadata": {},
     "output_type": "execute_result"
    }
   ],
   "source": [
    "orders_offers.dtypes"
   ]
  },
  {
   "cell_type": "code",
   "execution_count": 265,
   "metadata": {},
   "outputs": [
    {
     "data": {
      "text/html": [
       "<div>\n",
       "<style scoped>\n",
       "    .dataframe tbody tr th:only-of-type {\n",
       "        vertical-align: middle;\n",
       "    }\n",
       "\n",
       "    .dataframe tbody tr th {\n",
       "        vertical-align: top;\n",
       "    }\n",
       "\n",
       "    .dataframe thead th {\n",
       "        text-align: right;\n",
       "    }\n",
       "</style>\n",
       "<table border=\"1\" class=\"dataframe\">\n",
       "  <thead>\n",
       "    <tr style=\"text-align: right;\">\n",
       "      <th></th>\n",
       "      <th>order_time</th>\n",
       "      <th>origin_longitude</th>\n",
       "      <th>origin_latitude</th>\n",
       "      <th>m_order_eta</th>\n",
       "      <th>order_gk</th>\n",
       "      <th>order_status</th>\n",
       "      <th>is_driver_assigned</th>\n",
       "      <th>cancellations_time_in_seconds</th>\n",
       "      <th>offer_id</th>\n",
       "      <th>hour</th>\n",
       "    </tr>\n",
       "  </thead>\n",
       "  <tbody>\n",
       "    <tr>\n",
       "      <th>0</th>\n",
       "      <td>2024-11-06 18:08:07</td>\n",
       "      <td>-0.978916</td>\n",
       "      <td>51.456173</td>\n",
       "      <td>60.0</td>\n",
       "      <td>3000583041974</td>\n",
       "      <td>Client Cancelled</td>\n",
       "      <td>Yes</td>\n",
       "      <td>198.0</td>\n",
       "      <td>300050983403</td>\n",
       "      <td>18</td>\n",
       "    </tr>\n",
       "    <tr>\n",
       "      <th>1</th>\n",
       "      <td>2024-11-06 20:57:32</td>\n",
       "      <td>-0.950385</td>\n",
       "      <td>51.456843</td>\n",
       "      <td>NaN</td>\n",
       "      <td>3000583116437</td>\n",
       "      <td>Client Cancelled</td>\n",
       "      <td>No</td>\n",
       "      <td>128.0</td>\n",
       "      <td>300050986179</td>\n",
       "      <td>20</td>\n",
       "    </tr>\n",
       "    <tr>\n",
       "      <th>2</th>\n",
       "      <td>2024-11-06 20:57:32</td>\n",
       "      <td>-0.950385</td>\n",
       "      <td>51.456843</td>\n",
       "      <td>NaN</td>\n",
       "      <td>3000583116437</td>\n",
       "      <td>Client Cancelled</td>\n",
       "      <td>No</td>\n",
       "      <td>128.0</td>\n",
       "      <td>300050986174</td>\n",
       "      <td>20</td>\n",
       "    </tr>\n",
       "    <tr>\n",
       "      <th>3</th>\n",
       "      <td>2024-11-06 20:57:32</td>\n",
       "      <td>-0.950385</td>\n",
       "      <td>51.456843</td>\n",
       "      <td>NaN</td>\n",
       "      <td>3000583116437</td>\n",
       "      <td>Client Cancelled</td>\n",
       "      <td>No</td>\n",
       "      <td>128.0</td>\n",
       "      <td>300050986180</td>\n",
       "      <td>20</td>\n",
       "    </tr>\n",
       "    <tr>\n",
       "      <th>4</th>\n",
       "      <td>2024-11-06 12:07:50</td>\n",
       "      <td>-0.969520</td>\n",
       "      <td>51.455544</td>\n",
       "      <td>477.0</td>\n",
       "      <td>3000582891479</td>\n",
       "      <td>Client Cancelled</td>\n",
       "      <td>Yes</td>\n",
       "      <td>46.0</td>\n",
       "      <td>300050976275</td>\n",
       "      <td>12</td>\n",
       "    </tr>\n",
       "  </tbody>\n",
       "</table>\n",
       "</div>"
      ],
      "text/plain": [
       "           order_time  origin_longitude  origin_latitude  m_order_eta  \\\n",
       "0 2024-11-06 18:08:07         -0.978916        51.456173         60.0   \n",
       "1 2024-11-06 20:57:32         -0.950385        51.456843          NaN   \n",
       "2 2024-11-06 20:57:32         -0.950385        51.456843          NaN   \n",
       "3 2024-11-06 20:57:32         -0.950385        51.456843          NaN   \n",
       "4 2024-11-06 12:07:50         -0.969520        51.455544        477.0   \n",
       "\n",
       "        order_gk      order_status is_driver_assigned  \\\n",
       "0  3000583041974  Client Cancelled                Yes   \n",
       "1  3000583116437  Client Cancelled                 No   \n",
       "2  3000583116437  Client Cancelled                 No   \n",
       "3  3000583116437  Client Cancelled                 No   \n",
       "4  3000582891479  Client Cancelled                Yes   \n",
       "\n",
       "   cancellations_time_in_seconds      offer_id  hour  \n",
       "0                          198.0  300050983403    18  \n",
       "1                          128.0  300050986179    20  \n",
       "2                          128.0  300050986174    20  \n",
       "3                          128.0  300050986180    20  \n",
       "4                           46.0  300050976275    12  "
      ]
     },
     "execution_count": 265,
     "metadata": {},
     "output_type": "execute_result"
    }
   ],
   "source": [
    "orders_offers[\"hour\"] = orders_offers[\"order_time\"].dt.hour"
   ]
  },
  {
   "cell_type": "code",
   "execution_count": 277,
   "metadata": {},
   "outputs": [
    {
     "data": {
      "image/png": "[encoded data removed]",
      "text/plain": [
       "<Figure size 640x480 with 1 Axes>"
      ]
     },
     "metadata": {},
     "output_type": "display_data"
    }
   ],
   "source": [
    "grouped_counts_hours = orders_offers.groupby(['hour'])[\"order_gk\"].count()\n",
    "grouped_counts_hours.plot(kind = \"line\")\n",
    "plt.xticks(range(0,24),rotation = 0)\n",
    "plt.ylabel(\"Number of Offers\")\n",
    "plt.title(\"Count of Failed Orders By Hour of the Day\")\n",
    "plt.show()"
   ]
  },
  {
   "cell_type": "code",
   "execution_count": 283,
   "metadata": {},
   "outputs": [
    {
     "name": "stdout",
     "output_type": "stream",
     "text": [
      "hour  is_driver_assigned  order_status    \n",
      "0     No                  Client Cancelled     957\n",
      "                          System Reject        706\n",
      "      Yes                 Client Cancelled     326\n",
      "                          System Reject          4\n",
      "1     No                  Client Cancelled     633\n",
      "                                              ... \n",
      "22    No                  System Reject        660\n",
      "      Yes                 Client Cancelled     415\n",
      "23    No                  Client Cancelled    1144\n",
      "                          System Reject        883\n",
      "      Yes                 Client Cancelled     444\n",
      "Name: order_gk, Length: 73, dtype: int64\n"
     ]
    }
   ],
   "source": [
    "grouped_counts_hours_type = orders_offers.groupby(['hour',\"is_driver_assigned\",\"order_status\"])[\"order_gk\"].count()\n",
    "print(grouped_counts_hours_type)"
   ]
  }
 ],
 "metadata": {
  "kernelspec": {
   "display_name": "Python 3",
   "language": "python",
   "name": "python3"
  },
  "language_info": {
   "codemirror_mode": {
    "name": "ipython",
    "version": 3
   },
   "file_extension": ".py",
   "mimetype": "text/x-python",
   "name": "python",
   "nbconvert_exporter": "python",
   "pygments_lexer": "ipython3",
   "version": "3.11.6"
  }
 },
 "nbformat": 4,
 "nbformat_minor": 2
}
